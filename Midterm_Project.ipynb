{
 "cells": [
  {
   "cell_type": "code",
   "execution_count": 1493,
   "metadata": {},
   "outputs": [],
   "source": [
    "import pandas as pd\n",
    "from sklearn.model_selection import train_test_split\n",
    "from sklearn.multiclass import OneVsOneClassifier\n",
    "from sklearn.multiclass import OneVsRestClassifier\n",
    "from sklearn.svm import LinearSVC\n",
    "\n",
    "import matplotlib.pyplot as plt\n",
    "from sklearn.metrics import plot_confusion_matrix\n",
    "from mlxtend.plotting import plot_decision_regions\n",
    "\n",
    "from sklearn.decomposition import PCA\n",
    "from sklearn.metrics import classification_report\n",
    "from sklearn.metrics import confusion_matrix\n",
    "\n",
    "from sklearn.neural_network import MLPClassifier\n",
    "\n",
    "import numpy as np"
   ]
  },
  {
   "cell_type": "code",
   "execution_count": 1446,
   "metadata": {
    "scrolled": true
   },
   "outputs": [],
   "source": [
    "spotify = pd.read_csv(\"Spotify Dataset.csv\", encoding='cp1252')"
   ]
  },
  {
   "cell_type": "code",
   "execution_count": 1447,
   "metadata": {},
   "outputs": [
    {
     "data": {
      "text/plain": [
       "50"
      ]
     },
     "execution_count": 1447,
     "metadata": {},
     "output_type": "execute_result"
    }
   ],
   "source": [
    "len(spotify['top genre'].value_counts())"
   ]
  },
  {
   "cell_type": "code",
   "execution_count": 1448,
   "metadata": {},
   "outputs": [],
   "source": [
    "#spotify['title_length'] = spotify.apply(lambda x: len(x['title']),axis=1)"
   ]
  },
  {
   "cell_type": "code",
   "execution_count": 1449,
   "metadata": {},
   "outputs": [],
   "source": [
    "#spotify['artist_length'] = spotify.apply(lambda x: len(x['artist']),axis=1)"
   ]
  },
  {
   "cell_type": "markdown",
   "metadata": {},
   "source": [
    "### Removing Irrelevant Columns"
   ]
  },
  {
   "cell_type": "code",
   "execution_count": 1450,
   "metadata": {},
   "outputs": [],
   "source": [
    "spotify = spotify.drop(columns=['title','artist','year'])\n"
   ]
  },
  {
   "cell_type": "code",
   "execution_count": 1487,
   "metadata": {},
   "outputs": [
    {
     "data": {
      "text/html": [
       "<div>\n",
       "<style scoped>\n",
       "    .dataframe tbody tr th:only-of-type {\n",
       "        vertical-align: middle;\n",
       "    }\n",
       "\n",
       "    .dataframe tbody tr th {\n",
       "        vertical-align: top;\n",
       "    }\n",
       "\n",
       "    .dataframe thead th {\n",
       "        text-align: right;\n",
       "    }\n",
       "</style>\n",
       "<table border=\"1\" class=\"dataframe\">\n",
       "  <thead>\n",
       "    <tr style=\"text-align: right;\">\n",
       "      <th></th>\n",
       "      <th>top genre</th>\n",
       "      <th>bpm</th>\n",
       "      <th>nrgy</th>\n",
       "      <th>dnce</th>\n",
       "      <th>dB</th>\n",
       "      <th>live</th>\n",
       "      <th>val</th>\n",
       "      <th>dur</th>\n",
       "      <th>acous</th>\n",
       "      <th>spch</th>\n",
       "      <th>pop</th>\n",
       "    </tr>\n",
       "  </thead>\n",
       "  <tbody>\n",
       "    <tr>\n",
       "      <th>0</th>\n",
       "      <td>4</td>\n",
       "      <td>97</td>\n",
       "      <td>89</td>\n",
       "      <td>67</td>\n",
       "      <td>-4</td>\n",
       "      <td>8</td>\n",
       "      <td>80</td>\n",
       "      <td>217</td>\n",
       "      <td>19</td>\n",
       "      <td>4</td>\n",
       "      <td>83</td>\n",
       "    </tr>\n",
       "    <tr>\n",
       "      <th>1</th>\n",
       "      <td>3</td>\n",
       "      <td>87</td>\n",
       "      <td>93</td>\n",
       "      <td>75</td>\n",
       "      <td>-5</td>\n",
       "      <td>52</td>\n",
       "      <td>64</td>\n",
       "      <td>263</td>\n",
       "      <td>24</td>\n",
       "      <td>23</td>\n",
       "      <td>82</td>\n",
       "    </tr>\n",
       "    <tr>\n",
       "      <th>2</th>\n",
       "      <td>1</td>\n",
       "      <td>120</td>\n",
       "      <td>84</td>\n",
       "      <td>76</td>\n",
       "      <td>-3</td>\n",
       "      <td>29</td>\n",
       "      <td>71</td>\n",
       "      <td>200</td>\n",
       "      <td>10</td>\n",
       "      <td>14</td>\n",
       "      <td>80</td>\n",
       "    </tr>\n",
       "    <tr>\n",
       "      <th>3</th>\n",
       "      <td>1</td>\n",
       "      <td>119</td>\n",
       "      <td>92</td>\n",
       "      <td>70</td>\n",
       "      <td>-4</td>\n",
       "      <td>8</td>\n",
       "      <td>71</td>\n",
       "      <td>295</td>\n",
       "      <td>0</td>\n",
       "      <td>4</td>\n",
       "      <td>79</td>\n",
       "    </tr>\n",
       "    <tr>\n",
       "      <th>4</th>\n",
       "      <td>1</td>\n",
       "      <td>109</td>\n",
       "      <td>84</td>\n",
       "      <td>64</td>\n",
       "      <td>-5</td>\n",
       "      <td>9</td>\n",
       "      <td>43</td>\n",
       "      <td>221</td>\n",
       "      <td>2</td>\n",
       "      <td>4</td>\n",
       "      <td>78</td>\n",
       "    </tr>\n",
       "    <tr>\n",
       "      <th>...</th>\n",
       "      <td>...</td>\n",
       "      <td>...</td>\n",
       "      <td>...</td>\n",
       "      <td>...</td>\n",
       "      <td>...</td>\n",
       "      <td>...</td>\n",
       "      <td>...</td>\n",
       "      <td>...</td>\n",
       "      <td>...</td>\n",
       "      <td>...</td>\n",
       "      <td>...</td>\n",
       "    </tr>\n",
       "    <tr>\n",
       "      <th>598</th>\n",
       "      <td>1</td>\n",
       "      <td>104</td>\n",
       "      <td>66</td>\n",
       "      <td>61</td>\n",
       "      <td>-7</td>\n",
       "      <td>20</td>\n",
       "      <td>16</td>\n",
       "      <td>176</td>\n",
       "      <td>1</td>\n",
       "      <td>3</td>\n",
       "      <td>75</td>\n",
       "    </tr>\n",
       "    <tr>\n",
       "      <th>599</th>\n",
       "      <td>1</td>\n",
       "      <td>95</td>\n",
       "      <td>79</td>\n",
       "      <td>75</td>\n",
       "      <td>-6</td>\n",
       "      <td>7</td>\n",
       "      <td>61</td>\n",
       "      <td>206</td>\n",
       "      <td>21</td>\n",
       "      <td>12</td>\n",
       "      <td>75</td>\n",
       "    </tr>\n",
       "    <tr>\n",
       "      <th>600</th>\n",
       "      <td>1</td>\n",
       "      <td>136</td>\n",
       "      <td>76</td>\n",
       "      <td>53</td>\n",
       "      <td>-5</td>\n",
       "      <td>9</td>\n",
       "      <td>65</td>\n",
       "      <td>260</td>\n",
       "      <td>7</td>\n",
       "      <td>34</td>\n",
       "      <td>70</td>\n",
       "    </tr>\n",
       "    <tr>\n",
       "      <th>601</th>\n",
       "      <td>1</td>\n",
       "      <td>114</td>\n",
       "      <td>79</td>\n",
       "      <td>60</td>\n",
       "      <td>-6</td>\n",
       "      <td>42</td>\n",
       "      <td>24</td>\n",
       "      <td>217</td>\n",
       "      <td>1</td>\n",
       "      <td>7</td>\n",
       "      <td>69</td>\n",
       "    </tr>\n",
       "    <tr>\n",
       "      <th>602</th>\n",
       "      <td>2</td>\n",
       "      <td>150</td>\n",
       "      <td>44</td>\n",
       "      <td>70</td>\n",
       "      <td>-9</td>\n",
       "      <td>13</td>\n",
       "      <td>23</td>\n",
       "      <td>213</td>\n",
       "      <td>6</td>\n",
       "      <td>6</td>\n",
       "      <td>67</td>\n",
       "    </tr>\n",
       "  </tbody>\n",
       "</table>\n",
       "<p>603 rows × 11 columns</p>\n",
       "</div>"
      ],
      "text/plain": [
       "     top genre  bpm  nrgy  dnce  dB  live  val  dur  acous  spch  pop\n",
       "0            4   97    89    67  -4     8   80  217     19     4   83\n",
       "1            3   87    93    75  -5    52   64  263     24    23   82\n",
       "2            1  120    84    76  -3    29   71  200     10    14   80\n",
       "3            1  119    92    70  -4     8   71  295      0     4   79\n",
       "4            1  109    84    64  -5     9   43  221      2     4   78\n",
       "..         ...  ...   ...   ...  ..   ...  ...  ...    ...   ...  ...\n",
       "598          1  104    66    61  -7    20   16  176      1     3   75\n",
       "599          1   95    79    75  -6     7   61  206     21    12   75\n",
       "600          1  136    76    53  -5     9   65  260      7    34   70\n",
       "601          1  114    79    60  -6    42   24  217      1     7   69\n",
       "602          2  150    44    70  -9    13   23  213      6     6   67\n",
       "\n",
       "[603 rows x 11 columns]"
      ]
     },
     "execution_count": 1487,
     "metadata": {},
     "output_type": "execute_result"
    }
   ],
   "source": [
    "spotify"
   ]
  },
  {
   "cell_type": "markdown",
   "metadata": {},
   "source": [
    "### Recategorizing Music"
   ]
  },
  {
   "cell_type": "markdown",
   "metadata": {},
   "source": [
    "#### Pop"
   ]
  },
  {
   "cell_type": "code",
   "execution_count": 1451,
   "metadata": {},
   "outputs": [],
   "source": [
    "spotify['top genre'] = spotify.apply(lambda x: 'pop' if x['top genre'] == 'dance pop' else x['top genre'],axis=1)\n",
    "spotify['top genre'] = spotify.apply(lambda x: 'pop' if x['top genre'] == 'canadian pop' else x['top genre'],axis=1)\n",
    "spotify['top genre'] = spotify.apply(lambda x: 'pop' if x['top genre'] == 'barbadian pop' else x['top genre'],axis=1)\n",
    "spotify['top genre'] = spotify.apply(lambda x: 'pop' if x['top genre'] == 'art pop' else x['top genre'],axis=1)\n",
    "spotify['top genre'] = spotify.apply(lambda x: 'pop' if x['top genre'] == 'australian dance' else x['top genre'],axis=1)\n",
    "spotify['top genre'] = spotify.apply(lambda x: 'pop' if x['top genre'] == 'columbian pop' else x['top genre'],axis=1)\n",
    "spotify['top genre'] = spotify.apply(lambda x: 'pop' if x['top genre'] == 'acoustic pop' else x['top genre'],axis=1)\n",
    "spotify['top genre'] = spotify.apply(lambda x: 'pop' if x['top genre'] == 'folk-pop' else x['top genre'],axis=1)\n",
    "spotify['top genre'] = spotify.apply(lambda x: 'pop' if x['top genre'] == 'baroque pop' else x['top genre'],axis=1)\n",
    "spotify['top genre'] = spotify.apply(lambda x: 'pop' if x['top genre'] == 'indie pop' else x['top genre'],axis=1)\n",
    "spotify['top genre'] = spotify.apply(lambda x: 'pop' if x['top genre'] == 'candy pop' else x['top genre'],axis=1)\n",
    "spotify['top genre'] = spotify.apply(lambda x: 'pop' if x['top genre'] == 'danish pop' else x['top genre'],axis=1)\n",
    "spotify['top genre'] = spotify.apply(lambda x: 'pop' if x['top genre'] == 'metropopolis' else x['top genre'],axis=1)\n",
    "spotify['top genre'] = spotify.apply(lambda x: 'pop' if x['top genre'] == 'hollywood' else x['top genre'],axis=1)\n",
    "spotify['top genre'] = spotify.apply(lambda x: 'pop' if x['top genre'] == 'moroccan pop' else x['top genre'],axis=1)\n",
    "spotify['top genre'] = spotify.apply(lambda x: 'pop' if x['top genre'] == 'hollywood' else x['top genre'],axis=1)\n",
    "spotify['top genre'] = spotify.apply(lambda x: 'pop' if x['top genre'] == 'australian pop' else x['top genre'],axis=1)\n",
    "spotify['top genre'] = spotify.apply(lambda x: 'pop' if x['top genre'] == 'colombian pop' else x['top genre'],axis=1)\n",
    "spotify['top genre'] = spotify.apply(lambda x: 'pop' if x['top genre'] == 'boy band' else x['top genre'],axis=1)"
   ]
  },
  {
   "cell_type": "markdown",
   "metadata": {},
   "source": [
    "#### Soul"
   ]
  },
  {
   "cell_type": "code",
   "execution_count": 1452,
   "metadata": {},
   "outputs": [],
   "source": [
    "spotify['top genre'] = spotify.apply(lambda x: 'soul' if x['top genre'] == 'british soul' else x['top genre'],axis=1)\n",
    "spotify['top genre'] = spotify.apply(lambda x: 'soul' if x['top genre'] == 'canadian contemporary r&b' else x['top genre'],axis=1)\n",
    "spotify['top genre'] = spotify.apply(lambda x: 'soul' if x['top genre'] == 'alternative r&b' else x['top genre'],axis=1)"
   ]
  },
  {
   "cell_type": "markdown",
   "metadata": {},
   "source": [
    "#### Hip Hop"
   ]
  },
  {
   "cell_type": "code",
   "execution_count": 1453,
   "metadata": {},
   "outputs": [],
   "source": [
    "spotify['top genre'] = spotify.apply(lambda x: 'hiphop' if x['top genre'] == 'hip pop' else x['top genre'],axis=1)\n",
    "spotify['top genre'] = spotify.apply(lambda x: 'hiphop' if x['top genre'] == 'atl hip hop' else x['top genre'],axis=1)\n",
    "spotify['top genre'] = spotify.apply(lambda x: 'hiphop' if x['top genre'] == 'hip hop' else x['top genre'],axis=1)\n",
    "spotify['top genre'] = spotify.apply(lambda x: 'hiphop' if x['top genre'] == 'escape room' else x['top genre'],axis=1)\n",
    "spotify['top genre'] = spotify.apply(lambda x: 'hiphop' if x['top genre'] == 'detroit hip hop' else x['top genre'],axis=1)\n",
    "spotify['top genre'] = spotify.apply(lambda x: 'hiphop' if x['top genre'] == 'canadian hip hop' else x['top genre'],axis=1)\n",
    "spotify['top genre'] = spotify.apply(lambda x: 'hiphop' if x['top genre'] == 'chicago rap' else x['top genre'],axis=1)\n",
    "spotify['top genre'] = spotify.apply(lambda x: 'hiphop' if x['top genre'] == 'australian hip hop' else x['top genre'],axis=1)\n"
   ]
  },
  {
   "cell_type": "markdown",
   "metadata": {},
   "source": [
    "#### EDM"
   ]
  },
  {
   "cell_type": "code",
   "execution_count": 1454,
   "metadata": {},
   "outputs": [],
   "source": [
    "spotify['top genre'] = spotify.apply(lambda x: 'edm' if x['top genre'] == 'electropop' else x['top genre'],axis=1)\n",
    "spotify['top genre'] = spotify.apply(lambda x: 'edm' if x['top genre'] == 'complextro' else x['top genre'],axis=1)\n",
    "spotify['top genre'] = spotify.apply(lambda x: 'edm' if x['top genre'] == 'tropical house' else x['top genre'],axis=1)\n",
    "spotify['top genre'] = spotify.apply(lambda x: 'edm' if x['top genre'] == 'brostep' else x['top genre'],axis=1)\n",
    "spotify['top genre'] = spotify.apply(lambda x: 'edm' if x['top genre'] == 'electro' else x['top genre'],axis=1)\n",
    "spotify['top genre'] = spotify.apply(lambda x: 'edm' if x['top genre'] == 'downtempo' else x['top genre'],axis=1)\n",
    "spotify['top genre'] = spotify.apply(lambda x: 'edm' if x['top genre'] == 'electronic trap' else x['top genre'],axis=1)\n",
    "spotify['top genre'] = spotify.apply(lambda x: 'edm' if x['top genre'] == 'belgian edm' else x['top genre'],axis=1)\n",
    "spotify['top genre'] = spotify.apply(lambda x: 'edm' if x['top genre'] == 'electro house' else x['top genre'],axis=1)\n",
    "spotify['top genre'] = spotify.apply(lambda x: 'edm' if x['top genre'] == 'house' else x['top genre'],axis=1)\n",
    "spotify['top genre'] = spotify.apply(lambda x: 'edm' if x['top genre'] == 'big room' else x['top genre'],axis=1)\n"
   ]
  },
  {
   "cell_type": "markdown",
   "metadata": {},
   "source": [
    "#### Country Rock"
   ]
  },
  {
   "cell_type": "code",
   "execution_count": 1455,
   "metadata": {},
   "outputs": [],
   "source": [
    "spotify['top genre'] = spotify.apply(lambda x: 'countryrock' if x['top genre'] == 'neo mellow' else x['top genre'],axis=1)\n",
    "spotify['top genre'] = spotify.apply(lambda x: 'countryrock' if x['top genre'] == 'irish singer-songwriter' else x['top genre'],axis=1)\n",
    "spotify['top genre'] = spotify.apply(lambda x: 'countryrock' if x['top genre'] == 'celtic rock' else x['top genre'],axis=1)\n",
    "spotify['top genre'] = spotify.apply(lambda x: 'countryrock' if x['top genre'] == 'contemporary country' else x['top genre'],axis=1)\n"
   ]
  },
  {
   "cell_type": "markdown",
   "metadata": {},
   "source": [
    "#### Alternative"
   ]
  },
  {
   "cell_type": "code",
   "execution_count": 1456,
   "metadata": {},
   "outputs": [],
   "source": [
    "spotify['top genre'] = spotify.apply(lambda x: 'alternative' if x['top genre'] == 'permanent wave' else x['top genre'],axis=1)\n",
    "spotify['top genre'] = spotify.apply(lambda x: 'alternative' if x['top genre'] == 'alaska indie' else x['top genre'],axis=1)\n",
    "spotify['top genre'] = spotify.apply(lambda x: 'alternative' if x['top genre'] == 'french indie pop' else x['top genre'],axis=1)\n"
   ]
  },
  {
   "cell_type": "markdown",
   "metadata": {},
   "source": [
    "#### Latin"
   ]
  },
  {
   "cell_type": "code",
   "execution_count": 1457,
   "metadata": {},
   "outputs": [],
   "source": [
    "spotify['top genre'] = spotify.apply(lambda x: 'latin' if x['top genre'] == 'canadian latin' else x['top genre'],axis=1)\n"
   ]
  },
  {
   "cell_type": "markdown",
   "metadata": {},
   "source": [
    "#### Other"
   ]
  },
  {
   "cell_type": "code",
   "execution_count": 1458,
   "metadata": {},
   "outputs": [],
   "source": [
    "spotify['top genre'] = spotify.apply(lambda x: 'other' if x['top genre'] == 'latin' else x['top genre'],axis=1)\n",
    "spotify['top genre'] = spotify.apply(lambda x: 'other' if x['top genre'] == 'alternative' else x['top genre'],axis=1)\n",
    "spotify['top genre'] = spotify.apply(lambda x: 'other' if x['top genre'] == 'countryrock' else x['top genre'],axis=1)\n"
   ]
  },
  {
   "cell_type": "markdown",
   "metadata": {},
   "source": [
    "#### hiphopr&b"
   ]
  },
  {
   "cell_type": "code",
   "execution_count": 1459,
   "metadata": {},
   "outputs": [],
   "source": [
    "spotify['top genre'] = spotify.apply(lambda x: 'hiphopr&b' if x['top genre'] == 'hiphop' else x['top genre'],axis=1)\n",
    "spotify['top genre'] = spotify.apply(lambda x: 'hiphopr&b' if x['top genre'] == 'soul' else x['top genre'],axis=1)\n"
   ]
  },
  {
   "cell_type": "code",
   "execution_count": 1483,
   "metadata": {},
   "outputs": [
    {
     "data": {
      "text/plain": [
       "<matplotlib.axes._subplots.AxesSubplot at 0x17f13e2da90>"
      ]
     },
     "execution_count": 1483,
     "metadata": {},
     "output_type": "execute_result"
    },
    {
     "data": {
      "image/png": "[encoded data removed]",
      "text/plain": [
       "<Figure size 432x288 with 1 Axes>"
      ]
     },
     "metadata": {
      "needs_background": "light"
     },
     "output_type": "display_data"
    }
   ],
   "source": [
    "spotify['top genre'].value_counts().sort_values(ascending=False).plot(kind = 'bar')"
   ]
  },
  {
   "cell_type": "code",
   "execution_count": 1484,
   "metadata": {},
   "outputs": [
    {
     "data": {
      "text/plain": [
       "1    487\n",
       "2     49\n",
       "3     44\n",
       "4     23\n",
       "Name: top genre, dtype: int64"
      ]
     },
     "execution_count": 1484,
     "metadata": {},
     "output_type": "execute_result"
    }
   ],
   "source": [
    "spotify['top genre'].value_counts()"
   ]
  },
  {
   "cell_type": "markdown",
   "metadata": {},
   "source": [
    "### Converting Categories into numerical values"
   ]
  },
  {
   "cell_type": "code",
   "execution_count": 1461,
   "metadata": {},
   "outputs": [],
   "source": [
    "spotify['top genre'] = spotify.apply(lambda x: 1 if x['top genre'] == 'pop' else x['top genre'],axis=1)\n",
    "spotify['top genre'] = spotify.apply(lambda x: 2 if x['top genre'] == 'edm' else x['top genre'],axis=1)\n",
    "spotify['top genre'] = spotify.apply(lambda x: 3 if x['top genre'] == 'hiphopr&b' else x['top genre'],axis=1)\n",
    "spotify['top genre'] = spotify.apply(lambda x: 4 if x['top genre'] == 'other' else x['top genre'],axis=1)"
   ]
  },
  {
   "cell_type": "markdown",
   "metadata": {},
   "source": [
    "### Split the data and train the model"
   ]
  },
  {
   "cell_type": "code",
   "execution_count": 1462,
   "metadata": {},
   "outputs": [],
   "source": [
    "y = spotify['top genre']\n",
    "X = spotify.drop(columns=['top genre'])\n",
    "\n",
    "pca = PCA(n_components=2)\n",
    "Xreduced = pca.fit_transform(X)"
   ]
  },
  {
   "cell_type": "code",
   "execution_count": 1463,
   "metadata": {},
   "outputs": [],
   "source": [
    "X_train, X_test, y_train, y_test = train_test_split(Xreduced, y, test_size=0.3,random_state=53)"
   ]
  },
  {
   "cell_type": "code",
   "execution_count": 1464,
   "metadata": {},
   "outputs": [],
   "source": [
    "svm = LinearSVC()"
   ]
  },
  {
   "cell_type": "code",
   "execution_count": 1465,
   "metadata": {},
   "outputs": [],
   "source": [
    "ovr_classifier = OneVsRestClassifier(svm)"
   ]
  },
  {
   "cell_type": "code",
   "execution_count": 1466,
   "metadata": {},
   "outputs": [
    {
     "name": "stderr",
     "output_type": "stream",
     "text": [
      "C:\\Users\\54208\\Anaconda3\\lib\\site-packages\\sklearn\\svm\\_base.py:976: ConvergenceWarning: Liblinear failed to converge, increase the number of iterations.\n",
      "  warnings.warn(\"Liblinear failed to converge, increase \"\n",
      "C:\\Users\\54208\\Anaconda3\\lib\\site-packages\\sklearn\\svm\\_base.py:976: ConvergenceWarning: Liblinear failed to converge, increase the number of iterations.\n",
      "  warnings.warn(\"Liblinear failed to converge, increase \"\n",
      "C:\\Users\\54208\\Anaconda3\\lib\\site-packages\\sklearn\\svm\\_base.py:976: ConvergenceWarning: Liblinear failed to converge, increase the number of iterations.\n",
      "  warnings.warn(\"Liblinear failed to converge, increase \"\n",
      "C:\\Users\\54208\\Anaconda3\\lib\\site-packages\\sklearn\\svm\\_base.py:976: ConvergenceWarning: Liblinear failed to converge, increase the number of iterations.\n",
      "  warnings.warn(\"Liblinear failed to converge, increase \"\n"
     ]
    }
   ],
   "source": [
    "ovr_classifier = ovr_classifier.fit(X_train, y_train)"
   ]
  },
  {
   "cell_type": "code",
   "execution_count": 1467,
   "metadata": {},
   "outputs": [],
   "source": [
    "y_pred = ovr_classifier.predict(X_test)"
   ]
  },
  {
   "cell_type": "code",
   "execution_count": 1468,
   "metadata": {},
   "outputs": [
    {
     "data": {
      "image/png": "[encoded data removed]",
      "text/plain": [
       "<Figure size 432x288 with 2 Axes>"
      ]
     },
     "metadata": {
      "needs_background": "light"
     },
     "output_type": "display_data"
    }
   ],
   "source": [
    "matrix = plot_confusion_matrix(ovr_classifier, X_test, y_test,\n",
    "                                 cmap=plt.cm.Blues,\n",
    "                                 normalize='true')\n",
    "plt.title('Confusion matrix for OvR classifier')\n",
    "plt.show(matrix)\n",
    "plt.show()"
   ]
  },
  {
   "cell_type": "code",
   "execution_count": 1469,
   "metadata": {},
   "outputs": [
    {
     "data": {
      "text/plain": [
       "array([[127,   2,   3,  11],\n",
       "       [ 14,   1,   0,   0],\n",
       "       [ 10,   0,   5,   3],\n",
       "       [  3,   0,   0,   2]], dtype=int64)"
      ]
     },
     "execution_count": 1469,
     "metadata": {},
     "output_type": "execute_result"
    }
   ],
   "source": [
    "confusion_matrix(y_test, y_pred)"
   ]
  },
  {
   "cell_type": "code",
   "execution_count": 1470,
   "metadata": {},
   "outputs": [
    {
     "data": {
      "text/plain": [
       "<matplotlib.axes._subplots.AxesSubplot at 0x17f171335e0>"
      ]
     },
     "execution_count": 1470,
     "metadata": {},
     "output_type": "execute_result"
    },
    {
     "data": {
      "image/png": "[encoded data removed]",
      "text/plain": [
       "<Figure size 432x288 with 1 Axes>"
      ]
     },
     "metadata": {
      "needs_background": "light"
     },
     "output_type": "display_data"
    }
   ],
   "source": [
    "plot_decision_regions(X_test, y_test.to_numpy(), clf=ovr_classifier, legend=2)"
   ]
  },
  {
   "cell_type": "code",
   "execution_count": 1471,
   "metadata": {},
   "outputs": [
    {
     "name": "stdout",
     "output_type": "stream",
     "text": [
      "              precision    recall  f1-score   support\n",
      "\n",
      "         pop       0.82      0.89      0.86       143\n",
      "         edm       0.33      0.07      0.11        15\n",
      "   hiphopr&b       0.62      0.28      0.38        18\n",
      "       other       0.12      0.40      0.19         5\n",
      "\n",
      "    accuracy                           0.75       181\n",
      "   macro avg       0.48      0.41      0.39       181\n",
      "weighted avg       0.74      0.75      0.73       181\n",
      "\n"
     ]
    }
   ],
   "source": [
    "target_names = ['pop', 'edm', 'hiphopr&b','other']\n",
    "\n",
    "print(classification_report(y_test, y_pred, target_names=target_names))"
   ]
  },
  {
   "cell_type": "code",
   "execution_count": 1473,
   "metadata": {},
   "outputs": [
    {
     "data": {
      "text/plain": [
       "MLPClassifier(hidden_layer_sizes=(13, 13, 13), max_iter=500)"
      ]
     },
     "execution_count": 1473,
     "metadata": {},
     "output_type": "execute_result"
    }
   ],
   "source": [
    "mlp = MLPClassifier(hidden_layer_sizes=(13,13,13),max_iter=500)\n",
    "\n",
    "mlp.fit(X_train,y_train)"
   ]
  },
  {
   "cell_type": "code",
   "execution_count": 1476,
   "metadata": {},
   "outputs": [],
   "source": [
    "predictions = mlp.predict(X_test)"
   ]
  },
  {
   "cell_type": "code",
   "execution_count": 1490,
   "metadata": {
    "scrolled": true
   },
   "outputs": [
    {
     "name": "stdout",
     "output_type": "stream",
     "text": [
      "              precision    recall  f1-score   support\n",
      "\n",
      "         pop       0.79      0.99      0.88       143\n",
      "         edm       0.00      0.00      0.00        15\n",
      "   hiphopr&b       0.00      0.00      0.00        18\n",
      "       other       0.00      0.00      0.00         5\n",
      "\n",
      "    accuracy                           0.78       181\n",
      "   macro avg       0.20      0.25      0.22       181\n",
      "weighted avg       0.62      0.78      0.69       181\n",
      "\n"
     ]
    },
    {
     "name": "stderr",
     "output_type": "stream",
     "text": [
      "C:\\Users\\54208\\Anaconda3\\lib\\site-packages\\sklearn\\metrics\\_classification.py:1221: UndefinedMetricWarning: Precision and F-score are ill-defined and being set to 0.0 in labels with no predicted samples. Use `zero_division` parameter to control this behavior.\n",
      "  _warn_prf(average, modifier, msg_start, len(result))\n"
     ]
    }
   ],
   "source": [
    "print(classification_report(y_test, predictions, target_names=target_names))"
   ]
  },
  {
   "cell_type": "code",
   "execution_count": 1488,
   "metadata": {},
   "outputs": [
    {
     "data": {
      "image/png": "[encoded data removed]",
      "text/plain": [
       "<Figure size 432x288 with 2 Axes>"
      ]
     },
     "metadata": {
      "needs_background": "light"
     },
     "output_type": "display_data"
    }
   ],
   "source": [
    "matrix = plot_confusion_matrix(mlp, X_test, y_test,\n",
    "                                 cmap=plt.cm.Blues,\n",
    "                                 normalize='true')\n",
    "plt.title('Confusion matrix for Neural Network')\n",
    "plt.show(matrix)\n",
    "plt.show()"
   ]
  },
  {
   "cell_type": "code",
   "execution_count": 1486,
   "metadata": {},
   "outputs": [
    {
     "data": {
      "text/plain": [
       "<matplotlib.axes._subplots.AxesSubplot at 0x17f16f58a60>"
      ]
     },
     "execution_count": 1486,
     "metadata": {},
     "output_type": "execute_result"
    },
    {
     "data": {
      "image/png": "[encoded data removed]",
      "text/plain": [
       "<Figure size 432x288 with 1 Axes>"
      ]
     },
     "metadata": {
      "needs_background": "light"
     },
     "output_type": "display_data"
    }
   ],
   "source": [
    "plot_decision_regions(X_test, y_test.to_numpy(), clf=mlp, legend=2)"
   ]
  },
  {
   "cell_type": "markdown",
   "metadata": {},
   "source": [
    "### Activation Function"
   ]
  },
  {
   "cell_type": "code",
   "execution_count": 1527,
   "metadata": {},
   "outputs": [],
   "source": [
    "def weighted_sigmoid(x):\n",
    "    return 1/(1+np.exp(-x + 7.5))\n",
    "\n",
    "def sigmoid(x):\n",
    "    return 1/(1+np.exp(-x))"
   ]
  },
  {
   "cell_type": "code",
   "execution_count": 1528,
   "metadata": {},
   "outputs": [
    {
     "data": {
      "image/png": "[encoded data removed]",
      "text/plain": [
       "<Figure size 432x288 with 1 Axes>"
      ]
     },
     "metadata": {
      "needs_background": "light"
     },
     "output_type": "display_data"
    }
   ],
   "source": [
    "x = np.linspace(-10, 10)\n",
    "plt.plot(x, weighted_sigmoid(x))\n",
    "plt.axis('tight')\n",
    "plt.title('Activation Function :Weighted Sigmoid')\n",
    "plt.show()"
   ]
  },
  {
   "cell_type": "markdown",
   "metadata": {},
   "source": [
    "### Properties\n",
    "\n",
    "#### Bounded\n",
    "#### Nonlinear\n",
    "#### Convex"
   ]
  },
  {
   "cell_type": "code",
   "execution_count": null,
   "metadata": {},
   "outputs": [],
   "source": []
  }
 ],
 "metadata": {
  "kernelspec": {
   "display_name": "Python 3",
   "language": "python",
   "name": "python3"
  },
  "language_info": {
   "codemirror_mode": {
    "name": "ipython",
    "version": 3
   },
   "file_extension": ".py",
   "mimetype": "text/x-python",
   "name": "python",
   "nbconvert_exporter": "python",
   "pygments_lexer": "ipython3",
   "version": "3.8.3"
  }
 },
 "nbformat": 4,
 "nbformat_minor": 4
}
